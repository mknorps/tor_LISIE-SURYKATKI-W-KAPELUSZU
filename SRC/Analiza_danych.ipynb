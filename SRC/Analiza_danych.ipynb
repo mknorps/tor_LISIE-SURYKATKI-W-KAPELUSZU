{
 "cells": [
  {
   "cell_type": "code",
   "execution_count": 3,
   "metadata": {},
   "outputs": [],
   "source": [
    "# set up autocomplete\n",
    "%config IPCompleter.greedy=True"
   ]
  },
  {
   "cell_type": "code",
   "execution_count": 4,
   "metadata": {},
   "outputs": [],
   "source": [
    "import pandas as pd\n",
    "import json"
   ]
  },
  {
   "cell_type": "code",
   "execution_count": 5,
   "metadata": {},
   "outputs": [],
   "source": [
    "transactions = '../DATA/braincode-dataset-tx.json'\n",
    "views = '../DATA/braincode-dataset-items.json'\n",
    "dd = {\"ttimestamp\":1523430153199,\"offer\":{\"id\":\"4917959693\",\"category_id\":\"82258\"},\"location\":{\"latitude\":50.25841,\"longitude\":19.02754}}"
   ]
  },
  {
   "cell_type": "code",
   "execution_count": 6,
   "metadata": {},
   "outputs": [
    {
     "name": "stdout",
     "output_type": "stream",
     "text": [
      "             location       offer     ttimestamp\n",
      "category_id       NaN       82258  1523430153199\n",
      "id                NaN  4917959693  1523430153199\n",
      "latitude     50.25841         NaN  1523430153199\n",
      "longitude    19.02754         NaN  1523430153199\n"
     ]
    }
   ],
   "source": [
    "type(dd)\n",
    "print (pd.DataFrame(dd))"
   ]
  },
  {
   "cell_type": "code",
   "execution_count": 34,
   "metadata": {},
   "outputs": [
    {
     "ename": "KeyError",
     "evalue": "'category_id'",
     "output_type": "error",
     "traceback": [
      "\u001b[0;31m---------------------------------------------------------------------------\u001b[0m",
      "\u001b[0;31mKeyError\u001b[0m                                  Traceback (most recent call last)",
      "\u001b[0;32m<ipython-input-34-f83bf61c47f2>\u001b[0m in \u001b[0;36m<module>\u001b[0;34m()\u001b[0m\n\u001b[1;32m     17\u001b[0m \u001b[0;34m\u001b[0m\u001b[0m\n\u001b[1;32m     18\u001b[0m         \u001b[0mjson_to_dict\u001b[0m\u001b[0;34m[\u001b[0m\u001b[0;34m'offer_id'\u001b[0m\u001b[0;34m]\u001b[0m\u001b[0;34m.\u001b[0m\u001b[0mappend\u001b[0m\u001b[0;34m(\u001b[0m\u001b[0mjson_offer\u001b[0m\u001b[0;34m[\u001b[0m\u001b[0;34m'id'\u001b[0m\u001b[0;34m]\u001b[0m\u001b[0;34m)\u001b[0m\u001b[0;34m\u001b[0m\u001b[0m\n\u001b[0;32m---> 19\u001b[0;31m         \u001b[0mjson_to_dict\u001b[0m\u001b[0;34m[\u001b[0m\u001b[0;34m'category_id'\u001b[0m\u001b[0;34m]\u001b[0m\u001b[0;34m.\u001b[0m\u001b[0mappend\u001b[0m\u001b[0;34m(\u001b[0m\u001b[0mjson_offer\u001b[0m\u001b[0;34m[\u001b[0m\u001b[0;34m'category_id'\u001b[0m\u001b[0;34m]\u001b[0m\u001b[0;34m)\u001b[0m\u001b[0;34m\u001b[0m\u001b[0m\n\u001b[0m\u001b[1;32m     20\u001b[0m \u001b[0;34m\u001b[0m\u001b[0m\n\u001b[1;32m     21\u001b[0m         \u001b[0mjson_to_dict\u001b[0m\u001b[0;34m[\u001b[0m\u001b[0;34m'latitude'\u001b[0m\u001b[0;34m]\u001b[0m\u001b[0;34m.\u001b[0m\u001b[0mappend\u001b[0m\u001b[0;34m(\u001b[0m\u001b[0mjson_location\u001b[0m\u001b[0;34m[\u001b[0m\u001b[0;34m'latitude'\u001b[0m\u001b[0;34m]\u001b[0m\u001b[0;34m)\u001b[0m\u001b[0;34m\u001b[0m\u001b[0m\n",
      "\u001b[0;31mKeyError\u001b[0m: 'category_id'"
     ]
    }
   ],
   "source": [
    "import json\n",
    "from pandas.io.json import json_normalize    \n",
    "\n",
    "data = []\n",
    "json_to_dict = {'ttimestamp':[], \n",
    "               'offer_id':[],\n",
    "               'category_id':[],\n",
    "               'latitude':[],\n",
    "               'longitude':[],\n",
    "               'item_quantity':[]}\n",
    "with open (transactions) as f:\n",
    "    for line in f:\n",
    "        json_line = json.loads(line)\n",
    "        json_offer = json_line['offer']\n",
    "        json_location = json_line['location']\n",
    "        json_to_dict['ttimestamp'].append(json_line['ttimestamp'])\n",
    "        \n",
    "        json_to_dict['offer_id'].append(json_offer['id'])\n",
    "        json_to_dict['category_id'].append(json_offer['category_id'])\n",
    "\n",
    "        json_to_dict['latitude'].append(json_location['latitude'])\n",
    "        json_to_dict['longitude'].append(json_location['longitude'])\n",
    "        \n",
    "        json_to_dict['item_quantity'].append(json_line['item_quantity'])"
   ]
  },
  {
   "cell_type": "code",
   "execution_count": 33,
   "metadata": {},
   "outputs": [
    {
     "name": "stdout",
     "output_type": "stream",
     "text": [
      "ttimestamp 25772\n",
      "offer_id 25772\n",
      "category_id 0\n",
      "latitude 25772\n",
      "longitude 25772\n",
      "item_quantity 25772\n"
     ]
    }
   ],
   "source": [
    "for k,v in json_to_dict.items():\n",
    "    print(k, len(v))"
   ]
  },
  {
   "cell_type": "code",
   "execution_count": 28,
   "metadata": {},
   "outputs": [
    {
     "data": {
      "text/plain": [
       "dict_keys(['latitude', 'longitude'])"
      ]
     },
     "execution_count": 28,
     "metadata": {},
     "output_type": "execute_result"
    }
   ],
   "source": [
    "json_location.keys()"
   ]
  },
  {
   "cell_type": "code",
   "execution_count": null,
   "metadata": {},
   "outputs": [],
   "source": []
  }
 ],
 "metadata": {
  "kernelspec": {
   "display_name": "Python 3",
   "language": "python",
   "name": "python3"
  },
  "language_info": {
   "codemirror_mode": {
    "name": "ipython",
    "version": 3
   },
   "file_extension": ".py",
   "mimetype": "text/x-python",
   "name": "python",
   "nbconvert_exporter": "python",
   "pygments_lexer": "ipython3",
   "version": "3.6.4"
  }
 },
 "nbformat": 4,
 "nbformat_minor": 2
}
